{
  "nbformat": 4,
  "nbformat_minor": 0,
  "metadata": {
    "colab": {
      "provenance": []
    },
    "kernelspec": {
      "name": "python3",
      "display_name": "Python 3"
    },
    "language_info": {
      "name": "python"
    }
  },
  "cells": [
    {
      "cell_type": "markdown",
      "source": [
        "**Create a Spark session**"
      ],
      "metadata": {
        "id": "NRHBvEXyb7H2"
      }
    },
    {
      "cell_type": "code",
      "source": [
        "from pyspark.sql import SparkSession\n",
        "spark = SparkSession.builder.appName(\"HealthcareAnalysis\").getOrCreate()"
      ],
      "metadata": {
        "id": "4lk6VYQgiO6x"
      },
      "execution_count": 33,
      "outputs": []
    },
    {
      "cell_type": "markdown",
      "source": [
        "**Check Spark version**"
      ],
      "metadata": {
        "id": "OA_Y0B1zcEVg"
      }
    },
    {
      "cell_type": "code",
      "source": [
        "print(\"Apache Spark version:\", spark.version)"
      ],
      "metadata": {
        "colab": {
          "base_uri": "https://localhost:8080/"
        },
        "id": "AmhyoLH_iO3L",
        "outputId": "aaa4c925-d0b4-4050-b681-46d9557a300d"
      },
      "execution_count": 34,
      "outputs": [
        {
          "output_type": "stream",
          "name": "stdout",
          "text": [
            "Apache Spark version: 3.5.5\n"
          ]
        }
      ]
    },
    {
      "cell_type": "markdown",
      "source": [
        "**Load Your Dataset**"
      ],
      "metadata": {
        "id": "NzR1FhSbcpiO"
      }
    },
    {
      "cell_type": "code",
      "source": [
        "df = spark.read.csv(\"/content/healthcare_dataset.csv\", header=True, inferSchema=True)\n",
        "df.show(5)\n"
      ],
      "metadata": {
        "colab": {
          "base_uri": "https://localhost:8080/"
        },
        "id": "J_EupFZTiO1X",
        "outputId": "9b8ea9f3-d244-48b3-f249-092a5a85275a"
      },
      "execution_count": 35,
      "outputs": [
        {
          "output_type": "stream",
          "name": "stdout",
          "text": [
            "+-------------+---+------+----------+-----------------+-----------------+----------------+--------------------+------------------+------------------+-----------+--------------+--------------+-----------+------------+\n",
            "|         Name|Age|Gender|Blood Type|Medical Condition|Date of Admission|          Doctor|            Hospital|Insurance Provider|    Billing Amount|Room Number|Admission Type|Discharge Date| Medication|Test Results|\n",
            "+-------------+---+------+----------+-----------------+-----------------+----------------+--------------------+------------------+------------------+-----------+--------------+--------------+-----------+------------+\n",
            "|Bobby JacksOn| 30|  Male|        B-|           Cancer|       2024-01-31|   Matthew Smith|     Sons and Miller|        Blue Cross|18856.281305978155|        328|        Urgent|    2024-02-02|Paracetamol|      Normal|\n",
            "| LesLie TErRy| 62|  Male|        A+|          Obesity|       2019-08-20| Samantha Davies|             Kim Inc|          Medicare|33643.327286577885|        265|     Emergency|    2019-08-26|  Ibuprofen|Inconclusive|\n",
            "|  DaNnY sMitH| 76|Female|        A-|          Obesity|       2022-09-22|Tiffany Mitchell|            Cook PLC|             Aetna|27955.096078842456|        205|     Emergency|    2022-10-07|    Aspirin|      Normal|\n",
            "| andrEw waTtS| 28|Female|        O+|         Diabetes|       2020-11-18|     Kevin Wells|Hernandez Rogers ...|          Medicare| 37909.78240987528|        450|      Elective|    2020-12-18|  Ibuprofen|    Abnormal|\n",
            "|adrIENNE bEll| 43|Female|       AB+|           Cancer|       2022-09-19|  Kathleen Hanna|         White-White|             Aetna|14238.317813937623|        458|        Urgent|    2022-10-09| Penicillin|    Abnormal|\n",
            "+-------------+---+------+----------+-----------------+-----------------+----------------+--------------------+------------------+------------------+-----------+--------------+--------------+-----------+------------+\n",
            "only showing top 5 rows\n",
            "\n"
          ]
        }
      ]
    },
    {
      "cell_type": "markdown",
      "source": [
        "**Explore the Data**"
      ],
      "metadata": {
        "id": "htpBuiBecTqf"
      }
    },
    {
      "cell_type": "code",
      "source": [
        "df.printSchema()\n"
      ],
      "metadata": {
        "colab": {
          "base_uri": "https://localhost:8080/"
        },
        "id": "JWdyyzhUi1BT",
        "outputId": "bec3c05b-160f-4603-ec8b-0bac5733c38e"
      },
      "execution_count": 36,
      "outputs": [
        {
          "output_type": "stream",
          "name": "stdout",
          "text": [
            "root\n",
            " |-- Name: string (nullable = true)\n",
            " |-- Age: integer (nullable = true)\n",
            " |-- Gender: string (nullable = true)\n",
            " |-- Blood Type: string (nullable = true)\n",
            " |-- Medical Condition: string (nullable = true)\n",
            " |-- Date of Admission: date (nullable = true)\n",
            " |-- Doctor: string (nullable = true)\n",
            " |-- Hospital: string (nullable = true)\n",
            " |-- Insurance Provider: string (nullable = true)\n",
            " |-- Billing Amount: double (nullable = true)\n",
            " |-- Room Number: integer (nullable = true)\n",
            " |-- Admission Type: string (nullable = true)\n",
            " |-- Discharge Date: date (nullable = true)\n",
            " |-- Medication: string (nullable = true)\n",
            " |-- Test Results: string (nullable = true)\n",
            "\n"
          ]
        }
      ]
    },
    {
      "cell_type": "code",
      "source": [
        "print(\"Total Rows:\", df.count())\n"
      ],
      "metadata": {
        "colab": {
          "base_uri": "https://localhost:8080/"
        },
        "id": "fyJchLzjjE9W",
        "outputId": "d21364b5-9294-4eb8-f9d4-e7e904c4d56b"
      },
      "execution_count": 37,
      "outputs": [
        {
          "output_type": "stream",
          "name": "stdout",
          "text": [
            "Total Rows: 55500\n"
          ]
        }
      ]
    },
    {
      "cell_type": "code",
      "source": [
        "df.show(10)\n"
      ],
      "metadata": {
        "colab": {
          "base_uri": "https://localhost:8080/"
        },
        "id": "NBRbq8sEjIka",
        "outputId": "2e57c6e7-e9a6-419c-bc4b-985359b3298f"
      },
      "execution_count": 38,
      "outputs": [
        {
          "output_type": "stream",
          "name": "stdout",
          "text": [
            "+------------------+---+------+----------+-----------------+-----------------+----------------+--------------------+------------------+------------------+-----------+--------------+--------------+-----------+------------+\n",
            "|              Name|Age|Gender|Blood Type|Medical Condition|Date of Admission|          Doctor|            Hospital|Insurance Provider|    Billing Amount|Room Number|Admission Type|Discharge Date| Medication|Test Results|\n",
            "+------------------+---+------+----------+-----------------+-----------------+----------------+--------------------+------------------+------------------+-----------+--------------+--------------+-----------+------------+\n",
            "|     Bobby JacksOn| 30|  Male|        B-|           Cancer|       2024-01-31|   Matthew Smith|     Sons and Miller|        Blue Cross|18856.281305978155|        328|        Urgent|    2024-02-02|Paracetamol|      Normal|\n",
            "|      LesLie TErRy| 62|  Male|        A+|          Obesity|       2019-08-20| Samantha Davies|             Kim Inc|          Medicare|33643.327286577885|        265|     Emergency|    2019-08-26|  Ibuprofen|Inconclusive|\n",
            "|       DaNnY sMitH| 76|Female|        A-|          Obesity|       2022-09-22|Tiffany Mitchell|            Cook PLC|             Aetna|27955.096078842456|        205|     Emergency|    2022-10-07|    Aspirin|      Normal|\n",
            "|      andrEw waTtS| 28|Female|        O+|         Diabetes|       2020-11-18|     Kevin Wells|Hernandez Rogers ...|          Medicare| 37909.78240987528|        450|      Elective|    2020-12-18|  Ibuprofen|    Abnormal|\n",
            "|     adrIENNE bEll| 43|Female|       AB+|           Cancer|       2022-09-19|  Kathleen Hanna|         White-White|             Aetna|14238.317813937623|        458|        Urgent|    2022-10-09| Penicillin|    Abnormal|\n",
            "|     EMILY JOHNSOn| 36|  Male|        A+|           Asthma|       2023-12-20|   Taylor Newton|      Nunez-Humphrey|  UnitedHealthcare| 48145.11095104189|        389|        Urgent|    2023-12-24|  Ibuprofen|      Normal|\n",
            "|    edwArD EDWaRDs| 21|Female|       AB-|         Diabetes|       2020-11-03|     Kelly Olson|     Group Middleton|          Medicare| 19580.87234486093|        389|     Emergency|    2020-11-15|Paracetamol|Inconclusive|\n",
            "|CHrisTInA MARtinez| 20|Female|        A+|           Cancer|       2021-12-28|  Suzanne Thomas|Powell Robinson a...|             Cigna| 45820.46272159459|        277|     Emergency|    2022-01-07|Paracetamol|Inconclusive|\n",
            "|   JASmINe aGuIlaR| 82|  Male|       AB+|           Asthma|       2020-07-01| Daniel Ferguson|       Sons Rich and|             Cigna|50119.222791548505|        316|      Elective|    2020-07-14|    Aspirin|    Abnormal|\n",
            "|  ChRISTopher BerG| 58|Female|       AB-|           Cancer|       2021-05-23|     Heather Day|      Padilla-Walker|  UnitedHealthcare| 19784.63106221073|        249|      Elective|    2021-06-22|Paracetamol|Inconclusive|\n",
            "+------------------+---+------+----------+-----------------+-----------------+----------------+--------------------+------------------+------------------+-----------+--------------+--------------+-----------+------------+\n",
            "only showing top 10 rows\n",
            "\n"
          ]
        }
      ]
    },
    {
      "cell_type": "markdown",
      "source": [
        "**check for missing values**"
      ],
      "metadata": {
        "id": "-NLuM_H-c5ZG"
      }
    },
    {
      "cell_type": "code",
      "source": [
        "from pyspark.sql.functions import col, sum\n",
        "df.select([sum(col(c).isNull().cast(\"int\")).alias(c) for c in df.columns]).show()\n"
      ],
      "metadata": {
        "colab": {
          "base_uri": "https://localhost:8080/"
        },
        "id": "CM6GbaPUjl2A",
        "outputId": "de9a90dc-c56f-4aac-d4d9-be6c574cf91c"
      },
      "execution_count": 39,
      "outputs": [
        {
          "output_type": "stream",
          "name": "stdout",
          "text": [
            "+----+---+------+----------+-----------------+-----------------+------+--------+------------------+--------------+-----------+--------------+--------------+----------+------------+\n",
            "|Name|Age|Gender|Blood Type|Medical Condition|Date of Admission|Doctor|Hospital|Insurance Provider|Billing Amount|Room Number|Admission Type|Discharge Date|Medication|Test Results|\n",
            "+----+---+------+----------+-----------------+-----------------+------+--------+------------------+--------------+-----------+--------------+--------------+----------+------------+\n",
            "|   0|  0|     0|         0|                0|                0|     0|       0|                 0|             0|          0|             0|             0|         0|           0|\n",
            "+----+---+------+----------+-----------------+-----------------+------+--------+------------------+--------------+-----------+--------------+--------------+----------+------------+\n",
            "\n"
          ]
        }
      ]
    },
    {
      "cell_type": "markdown",
      "source": [
        "**Basic Statistics**"
      ],
      "metadata": {
        "id": "7ehRwF9FdEsj"
      }
    },
    {
      "cell_type": "code",
      "source": [
        "df.describe().show()"
      ],
      "metadata": {
        "colab": {
          "base_uri": "https://localhost:8080/"
        },
        "id": "YNINqjdMkDn8",
        "outputId": "612da8f5-14c1-4fc2-dc29-d423ca4a75d3"
      },
      "execution_count": 40,
      "outputs": [
        {
          "output_type": "stream",
          "name": "stdout",
          "text": [
            "+-------+------------+------------------+------+----------+-----------------+-------------+--------------------+------------------+-------------------+-----------------+--------------+----------+------------+\n",
            "|summary|        Name|               Age|Gender|Blood Type|Medical Condition|       Doctor|            Hospital|Insurance Provider|     Billing Amount|      Room Number|Admission Type|Medication|Test Results|\n",
            "+-------+------------+------------------+------+----------+-----------------+-------------+--------------------+------------------+-------------------+-----------------+--------------+----------+------------+\n",
            "|  count|       55500|             55500| 55500|     55500|            55500|        55500|               55500|             55500|              55500|            55500|         55500|     55500|       55500|\n",
            "|   mean|        NULL| 51.53945945945946|  NULL|      NULL|             NULL|         NULL|                NULL|              NULL| 25539.316097211744|301.1348288288288|          NULL|      NULL|        NULL|\n",
            "| stddev|        NULL|19.602453808514394|  NULL|      NULL|             NULL|         NULL|                NULL|              NULL| 14211.454430864422|115.2430687009733|          NULL|      NULL|        NULL|\n",
            "|    min|AARON DuncAn|                13|Female|        A+|        Arthritis|Aaron Acevedo|          Abbott Inc|             Aetna|-2008.4921398591305|              101|      Elective|   Aspirin|    Abnormal|\n",
            "|    max|zachary WALl|                89|  Male|        O-|          Obesity|  Zoe Wallace|and Zuniga Thomps...|  UnitedHealthcare| 52764.276736469175|              500|        Urgent|Penicillin|      Normal|\n",
            "+-------+------------+------------------+------+----------+-----------------+-------------+--------------------+------------------+-------------------+-----------------+--------------+----------+------------+\n",
            "\n"
          ]
        }
      ]
    },
    {
      "cell_type": "markdown",
      "source": [
        "**Most Common Medical Conditions**"
      ],
      "metadata": {
        "id": "u0hiM4LrdNS3"
      }
    },
    {
      "cell_type": "code",
      "source": [
        "df.groupBy(\"Medical Condition\").count().orderBy(col(\"count\").desc()).show(10, False)\n"
      ],
      "metadata": {
        "colab": {
          "base_uri": "https://localhost:8080/"
        },
        "id": "JoqRqasQkL9l",
        "outputId": "eb57be46-0c28-4af9-bfb5-17c5433b200d"
      },
      "execution_count": 42,
      "outputs": [
        {
          "output_type": "stream",
          "name": "stdout",
          "text": [
            "+-----------------+-----+\n",
            "|Medical Condition|count|\n",
            "+-----------------+-----+\n",
            "|Arthritis        |9308 |\n",
            "|Diabetes         |9304 |\n",
            "|Hypertension     |9245 |\n",
            "|Obesity          |9231 |\n",
            "|Cancer           |9227 |\n",
            "|Asthma           |9185 |\n",
            "+-----------------+-----+\n",
            "\n"
          ]
        }
      ]
    },
    {
      "cell_type": "markdown",
      "source": [
        "**Average Billing Amount by Insurance Provider**"
      ],
      "metadata": {
        "id": "C1eOT2LRdTUr"
      }
    },
    {
      "cell_type": "code",
      "source": [
        "df.groupBy(\"Insurance Provider\").avg(\"Billing Amount\").orderBy(col(\"avg(Billing Amount)\").desc()).show(10, False)\n"
      ],
      "metadata": {
        "colab": {
          "base_uri": "https://localhost:8080/"
        },
        "id": "W3dJ2Wm0kYao",
        "outputId": "cc47d90b-1423-4492-d221-4b4c3a6c9ff4"
      },
      "execution_count": 43,
      "outputs": [
        {
          "output_type": "stream",
          "name": "stdout",
          "text": [
            "+------------------+-------------------+\n",
            "|Insurance Provider|avg(Billing Amount)|\n",
            "+------------------+-------------------+\n",
            "|Medicare          |25615.990507988434 |\n",
            "|Blue Cross        |25613.011503051068 |\n",
            "|Aetna             |25553.294506111477 |\n",
            "|Cigna             |25525.76631422353  |\n",
            "|UnitedHealthcare  |25389.172390383454 |\n",
            "+------------------+-------------------+\n",
            "\n"
          ]
        }
      ]
    },
    {
      "cell_type": "markdown",
      "source": [
        "**Admission Type Distribution**"
      ],
      "metadata": {
        "id": "X2L__IaSdb2r"
      }
    },
    {
      "cell_type": "code",
      "source": [
        "df.groupBy(\"Admission Type\").count().orderBy(col(\"count\").desc()).show()\n"
      ],
      "metadata": {
        "colab": {
          "base_uri": "https://localhost:8080/"
        },
        "id": "McgmTX8rkeTu",
        "outputId": "8c2d17ef-893d-4de0-ae20-dee6d427e4ef"
      },
      "execution_count": 44,
      "outputs": [
        {
          "output_type": "stream",
          "name": "stdout",
          "text": [
            "+--------------+-----+\n",
            "|Admission Type|count|\n",
            "+--------------+-----+\n",
            "|      Elective|18655|\n",
            "|        Urgent|18576|\n",
            "|     Emergency|18269|\n",
            "+--------------+-----+\n",
            "\n"
          ]
        }
      ]
    },
    {
      "cell_type": "markdown",
      "source": [
        "**Most Common Admission Month**"
      ],
      "metadata": {
        "id": "KjASRg9Qdien"
      }
    },
    {
      "cell_type": "code",
      "source": [
        "from pyspark.sql.functions import month\n",
        "\n",
        "df = df.withColumn(\"Admission Month\", month(\"Date of Admission\"))\n",
        "\n",
        "df.groupBy(\"Admission Month\").count().orderBy(col(\"count\").desc()).show()\n"
      ],
      "metadata": {
        "colab": {
          "base_uri": "https://localhost:8080/"
        },
        "id": "3Ft-W_9HkoUJ",
        "outputId": "6379041e-5c06-4f01-c74f-b44337fc7df2"
      },
      "execution_count": 45,
      "outputs": [
        {
          "output_type": "stream",
          "name": "stdout",
          "text": [
            "+---------------+-----+\n",
            "|Admission Month|count|\n",
            "+---------------+-----+\n",
            "|              8| 4832|\n",
            "|              7| 4812|\n",
            "|              6| 4699|\n",
            "|              1| 4692|\n",
            "|             10| 4678|\n",
            "|              3| 4672|\n",
            "|             12| 4649|\n",
            "|              5| 4599|\n",
            "|             11| 4548|\n",
            "|              9| 4546|\n",
            "|              4| 4518|\n",
            "|              2| 4255|\n",
            "+---------------+-----+\n",
            "\n"
          ]
        }
      ]
    },
    {
      "cell_type": "markdown",
      "source": [
        "**Length of Stay in Hospital**"
      ],
      "metadata": {
        "id": "9dI0tPv8dqS1"
      }
    },
    {
      "cell_type": "code",
      "source": [
        "from pyspark.sql.functions import datediff\n",
        "\n",
        "df = df.withColumn(\"Length of Stay\", datediff(\"Discharge Date\", \"Date of Admission\"))\n",
        "\n",
        "df.select(\"Name\", \"Medical Condition\", \"Length of Stay\").show(10, False)\n"
      ],
      "metadata": {
        "colab": {
          "base_uri": "https://localhost:8080/"
        },
        "id": "Q4Obpi3xkzYd",
        "outputId": "10083a53-2250-4827-f7ab-d2404677b116"
      },
      "execution_count": 46,
      "outputs": [
        {
          "output_type": "stream",
          "name": "stdout",
          "text": [
            "+------------------+-----------------+--------------+\n",
            "|Name              |Medical Condition|Length of Stay|\n",
            "+------------------+-----------------+--------------+\n",
            "|Bobby JacksOn     |Cancer           |2             |\n",
            "|LesLie TErRy      |Obesity          |6             |\n",
            "|DaNnY sMitH       |Obesity          |15            |\n",
            "|andrEw waTtS      |Diabetes         |30            |\n",
            "|adrIENNE bEll     |Cancer           |20            |\n",
            "|EMILY JOHNSOn     |Asthma           |4             |\n",
            "|edwArD EDWaRDs    |Diabetes         |12            |\n",
            "|CHrisTInA MARtinez|Cancer           |10            |\n",
            "|JASmINe aGuIlaR   |Asthma           |13            |\n",
            "|ChRISTopher BerG  |Cancer           |30            |\n",
            "+------------------+-----------------+--------------+\n",
            "only showing top 10 rows\n",
            "\n"
          ]
        }
      ]
    },
    {
      "cell_type": "markdown",
      "source": [
        "**Top 10 Patients with the Highest Billing Amount**"
      ],
      "metadata": {
        "id": "SBqiXL1NdxMa"
      }
    },
    {
      "cell_type": "code",
      "source": [
        "df=df.dropDuplicates([\"Name\", \"Billing Amount\"])\n",
        "df.select(\"Name\", \"Billing Amount\").orderBy(col(\"Billing Amount\").desc()).show(10, False)\n"
      ],
      "metadata": {
        "colab": {
          "base_uri": "https://localhost:8080/"
        },
        "id": "a1fp_ScGk6Fd",
        "outputId": "cc73a161-a3cf-4436-a806-1baf0aea4dc0"
      },
      "execution_count": 47,
      "outputs": [
        {
          "output_type": "stream",
          "name": "stdout",
          "text": [
            "+-----------------+------------------+\n",
            "|Name             |Billing Amount    |\n",
            "+-----------------+------------------+\n",
            "|tOdd CARrILlO    |52764.276736469175|\n",
            "|kARen klInE      |52373.032374241826|\n",
            "|DAVId SanDOvaL   |52271.66374715383 |\n",
            "|kathRYN GoNzales |52211.85296638021 |\n",
            "|BRETT mARshAll   |52181.837792399056|\n",
            "|LAuRie hOod      |52170.03685355641 |\n",
            "|JUstIn CLark     |52154.237721878235|\n",
            "|sCotT pOWElL     |52102.24088919256 |\n",
            "|CAmEroN HeRnAndez|52092.669895844054|\n",
            "|TOm smItH        |52024.72644288463 |\n",
            "+-----------------+------------------+\n",
            "only showing top 10 rows\n",
            "\n"
          ]
        }
      ]
    },
    {
      "cell_type": "markdown",
      "source": [
        "**Average Billing by Admission Type**"
      ],
      "metadata": {
        "id": "xR5qKbJod5Vt"
      }
    },
    {
      "cell_type": "code",
      "source": [
        "df.groupBy(\"Admission Type\").avg(\"Billing Amount\").orderBy(col(\"avg(Billing Amount)\").desc()).show()\n"
      ],
      "metadata": {
        "colab": {
          "base_uri": "https://localhost:8080/"
        },
        "id": "HQg1CVI_lCuL",
        "outputId": "f4a08d08-e975-42f1-91eb-db52d1fb1967"
      },
      "execution_count": 50,
      "outputs": [
        {
          "output_type": "stream",
          "name": "stdout",
          "text": [
            "+--------------+-------------------+\n",
            "|Admission Type|avg(Billing Amount)|\n",
            "+--------------+-------------------+\n",
            "|      Elective| 25618.775711653685|\n",
            "|     Emergency| 25528.467891811233|\n",
            "|        Urgent|  25519.02875701066|\n",
            "+--------------+-------------------+\n",
            "\n"
          ]
        }
      ]
    },
    {
      "cell_type": "markdown",
      "source": [
        "**Data Visualization**"
      ],
      "metadata": {
        "id": "_cwBwVQgeGZm"
      }
    },
    {
      "cell_type": "code",
      "source": [
        "import matplotlib.pyplot as plt\n",
        "\n",
        "# Convert to Pandas\n",
        "df_pandas = df.groupBy(\"Admission Type\").count().toPandas()\n",
        "\n",
        "# Plot\n",
        "plt.figure(figsize=(8, 5))\n",
        "plt.bar(df_pandas[\"Admission Type\"], df_pandas[\"count\"], color='skyblue')\n",
        "plt.xlabel(\"Admission Type\")\n",
        "plt.ylabel(\"Count\")\n",
        "plt.title(\"Distribution of Admission Types\")\n",
        "plt.xticks(rotation=45)\n",
        "plt.show()\n"
      ],
      "metadata": {
        "colab": {
          "base_uri": "https://localhost:8080/",
          "height": 538
        },
        "id": "wU5tM7lclHN1",
        "outputId": "abfab3eb-2fd5-4774-e6d2-b68f63cb1d41"
      },
      "execution_count": 49,
      "outputs": [
        {
          "output_type": "display_data",
          "data": {
            "text/plain": [
              "<Figure size 800x500 with 1 Axes>"
            ],
            "image/png": "[encoded data removed]"
          },
          "metadata": {}
        }
      ]
    },
    {
      "cell_type": "markdown",
      "source": [
        "### Big Data Analysis - Healthcare Dataset (PySpark)\n",
        "\n",
        "#### Key Insights:\n",
        "- The most common medical condition is **Arthritis**.\n",
        "- The highest number of admissions occurred in **August Month**.\n",
        "- Patients with **Medicare  Insurance Provider**  have the highest billing amount.\n",
        "-  Elective admissions tend to be **more expensive** than elective ones.\n",
        "- Elective admissions are the most frequent type of admission, followed closely by Urgent and then Emergency admissions.\n",
        "- **tOdd CARrILlO and kARen klInE** have the highest billing amounts.\n"
      ],
      "metadata": {
        "id": "qTbiUpzCeil6"
      }
    },
    {
      "cell_type": "code",
      "source": [],
      "metadata": {
        "id": "Czt3JQRrRXg9"
      },
      "execution_count": 49,
      "outputs": []
    }
  ]
}